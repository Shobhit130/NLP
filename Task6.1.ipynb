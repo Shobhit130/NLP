{
 "cells": [
  {
   "attachments": {},
   "cell_type": "markdown",
   "metadata": {},
   "source": [
    "Chunking of a Phrase and a Passage about Mathura, Vrindavan\n"
   ]
  },
  {
   "cell_type": "code",
   "execution_count": 1,
   "metadata": {},
   "outputs": [],
   "source": [
    "import nltk\n",
    "from nltk import pos_tag"
   ]
  },
  {
   "cell_type": "code",
   "execution_count": 2,
   "metadata": {},
   "outputs": [],
   "source": [
    "sentence=\"The little yellow dog barked at the cat\"\n",
    "from nltk.tokenize import word_tokenize\n",
    "tokens=word_tokenize(sentence)\n"
   ]
  },
  {
   "cell_type": "code",
   "execution_count": 3,
   "metadata": {},
   "outputs": [
    {
     "data": {
      "text/plain": [
       "['The', 'little', 'yellow', 'dog', 'barked', 'at', 'the', 'cat']"
      ]
     },
     "execution_count": 3,
     "metadata": {},
     "output_type": "execute_result"
    }
   ],
   "source": [
    "tokens"
   ]
  },
  {
   "cell_type": "code",
   "execution_count": 4,
   "metadata": {},
   "outputs": [
    {
     "name": "stdout",
     "output_type": "stream",
     "text": [
      "[('The', 'DET'), ('little', 'ADJ'), ('yellow', 'ADJ'), ('dog', 'NOUN'), ('barked', 'VERB'), ('at', 'ADP'), ('the', 'DET'), ('cat', 'NOUN')]\n"
     ]
    }
   ],
   "source": [
    "tags=nltk.pos_tag(tokens,tagset=\"universal\")\n",
    "print (tags)"
   ]
  },
  {
   "cell_type": "code",
   "execution_count": 5,
   "metadata": {},
   "outputs": [],
   "source": [
    "grammar=\"NP :{<DT>?<ADJ>*<NOUN>}\""
   ]
  },
  {
   "cell_type": "code",
   "execution_count": 6,
   "metadata": {},
   "outputs": [],
   "source": [
    "cp=nltk.RegexpParser(grammar)"
   ]
  },
  {
   "cell_type": "code",
   "execution_count": 7,
   "metadata": {},
   "outputs": [
    {
     "data": {
      "text/plain": [
       "[('The', 'DET'),\n",
       " ('little', 'ADJ'),\n",
       " ('yellow', 'ADJ'),\n",
       " ('dog', 'NOUN'),\n",
       " ('barked', 'VERB'),\n",
       " ('at', 'ADP'),\n",
       " ('the', 'DET'),\n",
       " ('cat', 'NOUN')]"
      ]
     },
     "execution_count": 7,
     "metadata": {},
     "output_type": "execute_result"
    }
   ],
   "source": [
    "result=cp.parse(tags)\n",
    "tags"
   ]
  },
  {
   "cell_type": "code",
   "execution_count": 8,
   "metadata": {},
   "outputs": [],
   "source": [
    "result.draw()"
   ]
  },
  {
   "cell_type": "code",
   "execution_count": 9,
   "metadata": {},
   "outputs": [
    {
     "name": "stdout",
     "output_type": "stream",
     "text": [
      "(S\n",
      "  The/DET\n",
      "  (NP little/ADJ yellow/ADJ dog/NOUN)\n",
      "  barked/VERB\n",
      "  at/ADP\n",
      "  the/DET\n",
      "  (NP cat/NOUN))\n"
     ]
    }
   ],
   "source": [
    "print(result)"
   ]
  },
  {
   "cell_type": "code",
   "execution_count": 10,
   "metadata": {},
   "outputs": [],
   "source": [
    "passage = \"\"\"The history of Mathura can be traced to approximately 2500 years. Situated on the banks of the Yamuna River, Mathura is a sacred town for the Hindus that has found mention in historical and mythological anecdotes. Mathura city is mentioned in the oldest epic, the Ramayana. It was first known as Madhuvan because of the thick and dense forests that were once there. Later it was renamed as Mathura. The history of Mathura is inextricably associated with Lord Krishna. Even in the accounts of the illustrious Alexandrian astronomer Ptolemy, we found a passing mention of a city called Modoura, which in Latin means the \"city of Gods\". Besides the Hindus, Mathura was also a revered site for the Jains and the Buddhists as well.\n",
    "\n",
    "Any discourse on the historical background cannot achieve completion without the mention of the Kushana rule during which, Mathura evolved as a powerful principality to reckon with.\"\"\"\n",
    "\n",
    "sentences = nltk.sent_tokenize(passage)\n",
    "tagged_sentences = []\n",
    "for sentence in sentences:\n",
    "    words = nltk.word_tokenize(sentence)\n",
    "    tags = nltk.pos_tag(words)\n",
    "    tagged_sentences.append(tags)\n",
    "    "
   ]
  },
  {
   "cell_type": "code",
   "execution_count": 11,
   "metadata": {},
   "outputs": [
    {
     "name": "stdout",
     "output_type": "stream",
     "text": [
      "(S\n",
      "  The/DT\n",
      "  history/NN\n",
      "  of/IN\n",
      "  Mathura/NNP\n",
      "  can/MD\n",
      "  be/VB\n",
      "  traced/VBN\n",
      "  to/TO\n",
      "  approximately/RB\n",
      "  2500/CD\n",
      "  years/NNS\n",
      "  ./.)\n",
      "\n",
      "\n",
      "\n",
      "(S\n",
      "  Situated/VBN\n",
      "  on/IN\n",
      "  the/DT\n",
      "  banks/NNS\n",
      "  of/IN\n",
      "  the/DT\n",
      "  Yamuna/NNP\n",
      "  River/NNP\n",
      "  ,/,\n",
      "  Mathura/NNP\n",
      "  is/VBZ\n",
      "  a/DT\n",
      "  sacred/JJ\n",
      "  town/NN\n",
      "  for/IN\n",
      "  the/DT\n",
      "  Hindus/NNP\n",
      "  that/WDT\n",
      "  has/VBZ\n",
      "  found/VBN\n",
      "  mention/NN\n",
      "  in/IN\n",
      "  historical/JJ\n",
      "  and/CC\n",
      "  mythological/JJ\n",
      "  anecdotes/NNS\n",
      "  ./.)\n",
      "\n",
      "\n",
      "\n",
      "(S\n",
      "  Mathura/NNP\n",
      "  city/NN\n",
      "  is/VBZ\n",
      "  mentioned/VBN\n",
      "  in/IN\n",
      "  the/DT\n",
      "  oldest/JJS\n",
      "  epic/NN\n",
      "  ,/,\n",
      "  the/DT\n",
      "  Ramayana/NNP\n",
      "  ./.)\n",
      "\n",
      "\n",
      "\n",
      "(S\n",
      "  It/PRP\n",
      "  was/VBD\n",
      "  first/RB\n",
      "  known/VBN\n",
      "  as/IN\n",
      "  Madhuvan/NNP\n",
      "  because/IN\n",
      "  of/IN\n",
      "  the/DT\n",
      "  thick/NN\n",
      "  and/CC\n",
      "  dense/NN\n",
      "  forests/NNS\n",
      "  that/WDT\n",
      "  were/VBD\n",
      "  once/RB\n",
      "  there/RB\n",
      "  ./.)\n",
      "\n",
      "\n",
      "\n",
      "(S Later/RB it/PRP was/VBD renamed/VBN as/IN Mathura/NNP ./.)\n",
      "\n",
      "\n",
      "\n",
      "(S\n",
      "  The/DT\n",
      "  history/NN\n",
      "  of/IN\n",
      "  Mathura/NNP\n",
      "  is/VBZ\n",
      "  inextricably/RB\n",
      "  associated/VBN\n",
      "  with/IN\n",
      "  Lord/NNP\n",
      "  Krishna/NNP\n",
      "  ./.)\n",
      "\n",
      "\n",
      "\n",
      "(S\n",
      "  Even/RB\n",
      "  in/IN\n",
      "  the/DT\n",
      "  accounts/NNS\n",
      "  of/IN\n",
      "  the/DT\n",
      "  illustrious/JJ\n",
      "  Alexandrian/JJ\n",
      "  astronomer/NN\n",
      "  Ptolemy/NNP\n",
      "  ,/,\n",
      "  we/PRP\n",
      "  found/VBD\n",
      "  a/DT\n",
      "  passing/JJ\n",
      "  mention/NN\n",
      "  of/IN\n",
      "  a/DT\n",
      "  city/NN\n",
      "  called/VBN\n",
      "  Modoura/NNP\n",
      "  ,/,\n",
      "  which/WDT\n",
      "  in/IN\n",
      "  Latin/NNP\n",
      "  means/VBZ\n",
      "  the/DT\n",
      "  ``/``\n",
      "  city/NN\n",
      "  of/IN\n",
      "  Gods/NNP\n",
      "  ''/''\n",
      "  ./.)\n",
      "\n",
      "\n",
      "\n",
      "(S\n",
      "  Besides/IN\n",
      "  the/DT\n",
      "  Hindus/NNP\n",
      "  ,/,\n",
      "  Mathura/NNP\n",
      "  was/VBD\n",
      "  also/RB\n",
      "  a/DT\n",
      "  revered/JJ\n",
      "  site/NN\n",
      "  for/IN\n",
      "  the/DT\n",
      "  Jains/NNP\n",
      "  and/CC\n",
      "  the/DT\n",
      "  Buddhists/NNS\n",
      "  as/RB\n",
      "  well/RB\n",
      "  ./.)\n",
      "\n",
      "\n",
      "\n",
      "(S\n",
      "  Any/DT\n",
      "  discourse/NN\n",
      "  on/IN\n",
      "  the/DT\n",
      "  historical/JJ\n",
      "  background/NN\n",
      "  can/MD\n",
      "  not/RB\n",
      "  achieve/VB\n",
      "  completion/NN\n",
      "  without/IN\n",
      "  the/DT\n",
      "  mention/NN\n",
      "  of/IN\n",
      "  the/DT\n",
      "  Kushana/NNP\n",
      "  rule/NN\n",
      "  during/IN\n",
      "  which/WDT\n",
      "  ,/,\n",
      "  Mathura/NNP\n",
      "  evolved/VBD\n",
      "  as/IN\n",
      "  a/DT\n",
      "  powerful/JJ\n",
      "  principality/NN\n",
      "  to/TO\n",
      "  reckon/VB\n",
      "  with/IN\n",
      "  ./.)\n",
      "\n",
      "\n",
      "\n"
     ]
    }
   ],
   "source": [
    "for taggedSentence in tagged_sentences:\n",
    "    result = cp.parse(taggedSentence)\n",
    "    print(result)\n",
    "    print(\"\\n\\n\")"
   ]
  }
 ],
 "metadata": {
  "kernelspec": {
   "display_name": "base",
   "language": "python",
   "name": "python3"
  },
  "language_info": {
   "codemirror_mode": {
    "name": "ipython",
    "version": 3
   },
   "file_extension": ".py",
   "mimetype": "text/x-python",
   "name": "python",
   "nbconvert_exporter": "python",
   "pygments_lexer": "ipython3",
   "version": "3.9.6"
  },
  "orig_nbformat": 4,
  "vscode": {
   "interpreter": {
    "hash": "f2cea0fcb3d49cd12fc9918e11333f1f34f3d45a54ecb7928cb793f1d4934586"
   }
  }
 },
 "nbformat": 4,
 "nbformat_minor": 2
}
