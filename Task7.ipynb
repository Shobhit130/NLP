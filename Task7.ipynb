{
  "cells": [
    {
      "cell_type": "code",
      "execution_count": 1,
      "metadata": {
        "colab": {
          "base_uri": "https://localhost:8080/"
        },
        "id": "lgrZsMPXaf8k",
        "outputId": "f5c58e77-db8b-4f8f-afd2-158b4c3805db"
      },
      "outputs": [],
      "source": [
        "import spacy"
      ]
    },
    {
      "cell_type": "code",
      "execution_count": 2,
      "metadata": {
        "id": "-P3u-CdNa2Dr"
      },
      "outputs": [],
      "source": [
        "m = spacy.load(\"en_core_web_sm\")"
      ]
    },
    {
      "cell_type": "code",
      "execution_count": 3,
      "metadata": {
        "id": "an87Q4aka9Zd"
      },
      "outputs": [],
      "source": [
        "example =\"\"\"The history of Mathura can be traced to approximately 2500 years. Situated on the banks of the Yamuna River, Mathura is a sacred town for the Hindus that has found mention in historical and mythological anecdotes. Mathura city is mentioned in the oldest epic, the Ramayana. It was first known as Madhuvan because of the thick and dense forests that were once there. Later it was renamed as Mathura. The history of Mathura is inextricably associated with Lord Krishna. Even in the accounts of the illustrious Alexandrian astronomer Ptolemy, we found a passing mention of a city called Modoura, which in Latin means the \"city of Gods\". Besides the Hindus, Mathura was also a revered site for the Jains and the Buddhists as well.\n",
        "\n",
        "Any discourse on the historical background cannot achieve completion without the mention of the Kushana rule during which, Mathura evolved as a powerful principality to reckon with.\"\"\"\n",
        "\n",
        "doc = m(example)"
      ]
    },
    {
      "cell_type": "code",
      "execution_count": 4,
      "metadata": {
        "colab": {
          "base_uri": "https://localhost:8080/"
        },
        "id": "si1IL0uDcMEG",
        "outputId": "af2143b8-8913-43d2-dfdb-0c4f48e5698c"
      },
      "outputs": [
        {
          "name": "stdout",
          "output_type": "stream",
          "text": [
            "The DET DT\n",
            "history NOUN NN\n",
            "of ADP IN\n",
            "Mathura PROPN NNP\n",
            "can AUX MD\n",
            "be AUX VB\n",
            "traced VERB VBN\n",
            "to ADP IN\n",
            "approximately ADV RB\n",
            "2500 NUM CD\n",
            "years NOUN NNS\n",
            ". PUNCT .\n",
            "Situated VERB VBN\n",
            "on ADP IN\n",
            "the DET DT\n",
            "banks NOUN NNS\n",
            "of ADP IN\n",
            "the DET DT\n",
            "Yamuna PROPN NNP\n",
            "River PROPN NNP\n",
            ", PUNCT ,\n",
            "Mathura PROPN NNP\n",
            "is AUX VBZ\n",
            "a DET DT\n",
            "sacred ADJ JJ\n",
            "town NOUN NN\n",
            "for ADP IN\n",
            "the DET DT\n",
            "Hindus PROPN NNPS\n",
            "that PRON WDT\n",
            "has AUX VBZ\n",
            "found VERB VBN\n",
            "mention NOUN NN\n",
            "in ADP IN\n",
            "historical ADJ JJ\n",
            "and CCONJ CC\n",
            "mythological ADJ JJ\n",
            "anecdotes NOUN NNS\n",
            ". PUNCT .\n",
            "Mathura PROPN NNP\n",
            "city NOUN NN\n",
            "is AUX VBZ\n",
            "mentioned VERB VBN\n",
            "in ADP IN\n",
            "the DET DT\n",
            "oldest ADJ JJS\n",
            "epic NOUN NN\n",
            ", PUNCT ,\n",
            "the DET DT\n",
            "Ramayana PROPN NNP\n",
            ". PUNCT .\n",
            "It PRON PRP\n",
            "was AUX VBD\n",
            "first ADV RB\n",
            "known VERB VBN\n",
            "as ADP IN\n",
            "Madhuvan PROPN NNP\n",
            "because SCONJ IN\n",
            "of ADP IN\n",
            "the DET DT\n",
            "thick ADJ JJ\n",
            "and CCONJ CC\n",
            "dense ADJ JJ\n",
            "forests NOUN NNS\n",
            "that PRON WDT\n",
            "were AUX VBD\n",
            "once ADV RB\n",
            "there ADV RB\n",
            ". PUNCT .\n",
            "Later ADV RB\n",
            "it PRON PRP\n",
            "was AUX VBD\n",
            "renamed VERB VBN\n",
            "as ADP IN\n",
            "Mathura PROPN NNP\n",
            ". PUNCT .\n",
            "The DET DT\n",
            "history NOUN NN\n",
            "of ADP IN\n",
            "Mathura PROPN NNP\n",
            "is AUX VBZ\n",
            "inextricably ADV RB\n",
            "associated VERB VBN\n",
            "with ADP IN\n",
            "Lord PROPN NNP\n",
            "Krishna PROPN NNP\n",
            ". PUNCT .\n",
            "Even ADV RB\n",
            "in ADP IN\n",
            "the DET DT\n",
            "accounts NOUN NNS\n",
            "of ADP IN\n",
            "the DET DT\n",
            "illustrious ADJ JJ\n",
            "Alexandrian ADJ JJ\n",
            "astronomer NOUN NN\n",
            "Ptolemy PROPN NNP\n",
            ", PUNCT ,\n",
            "we PRON PRP\n",
            "found VERB VBD\n",
            "a DET DT\n",
            "passing ADJ JJ\n",
            "mention NOUN NN\n",
            "of ADP IN\n",
            "a DET DT\n",
            "city NOUN NN\n",
            "called VERB VBN\n",
            "Modoura PROPN NNP\n",
            ", PUNCT ,\n",
            "which PRON WDT\n",
            "in ADP IN\n",
            "Latin PROPN NNP\n",
            "means VERB VBZ\n",
            "the DET DT\n",
            "\" PUNCT ``\n",
            "city NOUN NN\n",
            "of ADP IN\n",
            "Gods NOUN NNS\n",
            "\" PUNCT ''\n",
            ". PUNCT .\n",
            "Besides SCONJ IN\n",
            "the DET DT\n",
            "Hindus PROPN NNPS\n",
            ", PUNCT ,\n",
            "Mathura PROPN NNP\n",
            "was AUX VBD\n",
            "also ADV RB\n",
            "a DET DT\n",
            "revered VERB VBN\n",
            "site NOUN NN\n",
            "for ADP IN\n",
            "the DET DT\n",
            "Jains PROPN NNP\n",
            "and CCONJ CC\n",
            "the DET DT\n",
            "Buddhists PROPN NNPS\n",
            "as ADV RB\n",
            "well ADV RB\n",
            ". PUNCT .\n",
            "\n",
            "\n",
            " SPACE _SP\n",
            "Any DET DT\n",
            "discourse NOUN NN\n",
            "on ADP IN\n",
            "the DET DT\n",
            "historical ADJ JJ\n",
            "background NOUN NN\n",
            "can AUX MD\n",
            "not PART RB\n",
            "achieve VERB VB\n",
            "completion NOUN NN\n",
            "without ADP IN\n",
            "the DET DT\n",
            "mention NOUN NN\n",
            "of ADP IN\n",
            "the DET DT\n",
            "Kushana PROPN NNP\n",
            "rule NOUN NN\n",
            "during ADP IN\n",
            "which PRON WDT\n",
            ", PUNCT ,\n",
            "Mathura PROPN NNP\n",
            "evolved VERB VBD\n",
            "as ADP IN\n",
            "a DET DT\n",
            "powerful ADJ JJ\n",
            "principality NOUN NN\n",
            "to PART TO\n",
            "reckon VERB VB\n",
            "with ADP IN\n",
            ". PUNCT .\n"
          ]
        }
      ],
      "source": [
        "for token in doc:  \n",
        "    \n",
        "    # Print each token\n",
        "    print(token, token.pos_, token.tag_)"
      ]
    },
    {
      "cell_type": "code",
      "execution_count": 5,
      "metadata": {
        "colab": {
          "base_uri": "https://localhost:8080/"
        },
        "id": "-eMVRxDvcTiv",
        "outputId": "3da641a6-b166-4fdb-c91b-9854670170f7"
      },
      "outputs": [
        {
          "name": "stdout",
          "output_type": "stream",
          "text": [
            "Mathura GPE\n",
            "approximately 2500 years DATE\n",
            "the Yamuna River LOC\n",
            "Mathura GPE\n",
            "Hindus NORP\n",
            "Mathura city GPE\n",
            "Ramayana PERSON\n",
            "first ORDINAL\n",
            "Madhuvan PERSON\n",
            "Mathura GPE\n",
            "Mathura GPE\n",
            "Alexandrian NORP\n",
            "Ptolemy GPE\n",
            "Modoura GPE\n",
            "Latin LANGUAGE\n",
            "Hindus NORP\n",
            "Mathura GPE\n",
            "Jains PERSON\n",
            "Buddhists NORP\n",
            "Kushana PERSON\n",
            "Mathura GPE\n"
          ]
        }
      ],
      "source": [
        "for ent in doc.ents:\n",
        "\n",
        "    # Print the named entity and its label\n",
        "    print(ent.text, ent.label_)"
      ]
    }
  ],
  "metadata": {
    "colab": {
      "provenance": []
    },
    "kernelspec": {
      "display_name": "base",
      "language": "python",
      "name": "python3"
    },
    "language_info": {
      "codemirror_mode": {
        "name": "ipython",
        "version": 3
      },
      "file_extension": ".py",
      "mimetype": "text/x-python",
      "name": "python",
      "nbconvert_exporter": "python",
      "pygments_lexer": "ipython3",
      "version": "3.9.6"
    },
    "vscode": {
      "interpreter": {
        "hash": "f2cea0fcb3d49cd12fc9918e11333f1f34f3d45a54ecb7928cb793f1d4934586"
      }
    }
  },
  "nbformat": 4,
  "nbformat_minor": 0
}
